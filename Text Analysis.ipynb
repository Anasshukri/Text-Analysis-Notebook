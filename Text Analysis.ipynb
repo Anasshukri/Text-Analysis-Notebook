{
 "cells": [
  {
   "cell_type": "markdown",
   "metadata": {},
   "source": [
    "#### Declaring text to analyse"
   ]
  },
  {
   "cell_type": "code",
   "execution_count": 619,
   "metadata": {
    "scrolled": true
   },
   "outputs": [
    {
     "data": {
      "text/html": [
       "<div>\n",
       "<style scoped>\n",
       "    .dataframe tbody tr th:only-of-type {\n",
       "        vertical-align: middle;\n",
       "    }\n",
       "\n",
       "    .dataframe tbody tr th {\n",
       "        vertical-align: top;\n",
       "    }\n",
       "\n",
       "    .dataframe thead th {\n",
       "        text-align: right;\n",
       "    }\n",
       "</style>\n",
       "<table border=\"1\" class=\"dataframe\">\n",
       "  <thead>\n",
       "    <tr style=\"text-align: right;\">\n",
       "      <th></th>\n",
       "      <th>Data</th>\n",
       "    </tr>\n",
       "  </thead>\n",
       "  <tbody>\n",
       "    <tr>\n",
       "      <th>0</th>\n",
       "      <td>As a term, data analytics predominantly refers...</td>\n",
       "    </tr>\n",
       "    <tr>\n",
       "      <th>1</th>\n",
       "      <td>intelligence (BI), reporting and online analyt...</td>\n",
       "    </tr>\n",
       "    <tr>\n",
       "      <th>2</th>\n",
       "      <td>analytics. In that sense, it's similar in natu...</td>\n",
       "    </tr>\n",
       "    <tr>\n",
       "      <th>3</th>\n",
       "      <td>approaches to analyzing data -- with the diffe...</td>\n",
       "    </tr>\n",
       "    <tr>\n",
       "      <th>4</th>\n",
       "      <td>data analytics has a broader focus. The expans...</td>\n",
       "    </tr>\n",
       "    <tr>\n",
       "      <th>5</th>\n",
       "      <td>cases, people use data analytics specifically ...</td>\n",
       "    </tr>\n",
       "    <tr>\n",
       "      <th>6</th>\n",
       "      <td>category. Data analytics initiatives can help ...</td>\n",
       "    </tr>\n",
       "    <tr>\n",
       "      <th>7</th>\n",
       "      <td>efficiency, optimize marketing campaigns and c...</td>\n",
       "    </tr>\n",
       "    <tr>\n",
       "      <th>8</th>\n",
       "      <td>emerging market trends and gain a competitive ...</td>\n",
       "    </tr>\n",
       "    <tr>\n",
       "      <th>9</th>\n",
       "      <td>boosting business performance. Depending on th...</td>\n",
       "    </tr>\n",
       "    <tr>\n",
       "      <th>10</th>\n",
       "      <td>can consist of either historical records or ne...</td>\n",
       "    </tr>\n",
       "    <tr>\n",
       "      <th>11</th>\n",
       "      <td>analytics uses. In addition, it can come from ...</td>\n",
       "    </tr>\n",
       "    <tr>\n",
       "      <th>12</th>\n",
       "      <td>high level, data analytics methodologies inclu...</td>\n",
       "    </tr>\n",
       "    <tr>\n",
       "      <th>13</th>\n",
       "      <td>patterns and relationships in data, and confir...</td>\n",
       "    </tr>\n",
       "    <tr>\n",
       "      <th>14</th>\n",
       "      <td>techniques to determine whether hypotheses abo...</td>\n",
       "    </tr>\n",
       "    <tr>\n",
       "      <th>15</th>\n",
       "      <td>compared to detective work, while CDA is akin ...</td>\n",
       "    </tr>\n",
       "    <tr>\n",
       "      <th>16</th>\n",
       "      <td>distinction first drawn by statistician John W...</td>\n",
       "    </tr>\n",
       "    <tr>\n",
       "      <th>17</th>\n",
       "      <td>analytics can also be separated into quantitat...</td>\n",
       "    </tr>\n",
       "    <tr>\n",
       "      <th>18</th>\n",
       "      <td>former involves analysis of numerical data wit...</td>\n",
       "    </tr>\n",
       "    <tr>\n",
       "      <th>19</th>\n",
       "      <td>measured statistically. The qualitative approa...</td>\n",
       "    </tr>\n",
       "    <tr>\n",
       "      <th>20</th>\n",
       "      <td>the content of non-numerical data like text, i...</td>\n",
       "    </tr>\n",
       "    <tr>\n",
       "      <th>21</th>\n",
       "      <td>themes and points of view</td>\n",
       "    </tr>\n",
       "  </tbody>\n",
       "</table>\n",
       "</div>"
      ],
      "text/plain": [
       "                                                 Data\n",
       "0   As a term, data analytics predominantly refers...\n",
       "1   intelligence (BI), reporting and online analyt...\n",
       "2   analytics. In that sense, it's similar in natu...\n",
       "3   approaches to analyzing data -- with the diffe...\n",
       "4   data analytics has a broader focus. The expans...\n",
       "5   cases, people use data analytics specifically ...\n",
       "6   category. Data analytics initiatives can help ...\n",
       "7   efficiency, optimize marketing campaigns and c...\n",
       "8   emerging market trends and gain a competitive ...\n",
       "9   boosting business performance. Depending on th...\n",
       "10  can consist of either historical records or ne...\n",
       "11  analytics uses. In addition, it can come from ...\n",
       "12  high level, data analytics methodologies inclu...\n",
       "13  patterns and relationships in data, and confir...\n",
       "14  techniques to determine whether hypotheses abo...\n",
       "15  compared to detective work, while CDA is akin ...\n",
       "16  distinction first drawn by statistician John W...\n",
       "17  analytics can also be separated into quantitat...\n",
       "18  former involves analysis of numerical data wit...\n",
       "19  measured statistically. The qualitative approa...\n",
       "20  the content of non-numerical data like text, i...\n",
       "21                          themes and points of view"
      ]
     },
     "execution_count": 619,
     "metadata": {},
     "output_type": "execute_result"
    }
   ],
   "source": [
    "import pandas as pd\n",
    "\n",
    "df = pd.read_fwf('text_data.txt', delimiter='/.', names=[\"Data\"])\n",
    "\n",
    "df"
   ]
  },
  {
   "cell_type": "markdown",
   "metadata": {},
   "source": [
    "#### Probability of the word “data” occurring in each line"
   ]
  },
  {
   "cell_type": "code",
   "execution_count": 620,
   "metadata": {},
   "outputs": [
    {
     "name": "stdout",
     "output_type": "stream",
     "text": [
      "Probabilty of word data occuring in a line: 0.5454545454545454\n",
      "Probabilty of word data not occuring in a line: 0.45454545454545453\n"
     ]
    }
   ],
   "source": [
    "data = df.loc[df['Data'].str.contains('data')]\n",
    "nodata = df.loc[~df['Data'].str.contains('data')]\n",
    "\n",
    "total_lines = df.loc[0:].count().item()\n",
    "\n",
    "probability_data = (data.count().item() / total_lines)\n",
    "probability_no_data = (nodata.count().item() / total_lines)\n",
    "\n",
    "print('Probabilty of word','data','occuring in a line:',probability_data)\n",
    "print('Probabilty of word','data','not occuring in a line:',probability_no_data)\n"
   ]
  },
  {
   "cell_type": "markdown",
   "metadata": {},
   "source": [
    "#### Distribution of distinct word counts across all the lines "
   ]
  },
  {
   "cell_type": "code",
   "execution_count": 621,
   "metadata": {},
   "outputs": [
    {
     "data": {
      "text/plain": [
       "an                 1.0\n",
       "refers             1.0\n",
       "business           4.0\n",
       "basic              1.0\n",
       "a                 10.0\n",
       "term,              1.0\n",
       "assortment         1.0\n",
       "of                10.0\n",
       "predominantly      1.0\n",
       "analytics          7.0\n",
       "applications,      1.0\n",
       "from               2.0\n",
       "data              14.0\n",
       "to                11.0\n",
       "As                 1.0\n",
       "(BI),              1.0\n",
       "(OLAP)             1.0\n",
       "intelligence       1.0\n",
       "and                9.0\n",
       "online             1.0\n",
       "forms              1.0\n",
       "various            1.0\n",
       "advanced           2.0\n",
       "reporting          1.0\n",
       "analytical         1.0\n",
       "processing         1.0\n",
       "that               4.0\n",
       "another            1.0\n",
       "umbrella           1.0\n",
       "nature             1.0\n",
       "                  ... \n",
       "be                 2.0\n",
       "qualitative        2.0\n",
       "separated          1.0\n",
       "also               1.0\n",
       "quantitative       1.0\n",
       "analysis.          1.0\n",
       "into               1.0\n",
       "variables          1.0\n",
       "involves           1.0\n",
       "quantifiable       1.0\n",
       "numerical          1.0\n",
       "former             1.0\n",
       "measured           1.0\n",
       "approach           1.0\n",
       "understanding      1.0\n",
       "statistically.     1.0\n",
       "interpretive       1.0\n",
       "focuses            1.0\n",
       "common             1.0\n",
       "non-numerical      1.0\n",
       "including          1.0\n",
       "phrases,           1.0\n",
       "like               1.0\n",
       "content            1.0\n",
       "text,              1.0\n",
       "audio              1.0\n",
       "images,            1.0\n",
       "video,             1.0\n",
       "themes             1.0\n",
       "points             1.0\n",
       "Length: 211, dtype: float64"
      ]
     },
     "execution_count": 621,
     "metadata": {},
     "output_type": "execute_result"
    }
   ],
   "source": [
    "from collections import Counter\n",
    "\n",
    "## Distribution of distinct word across all lines\n",
    "\n",
    "df.Data.apply(lambda x: pd.value_counts(x.split(\" \"))).sum(axis = 0)\n",
    "\n",
    "## Distinct words in each line  ⇊⇊⇊ 0:21\n",
    "\n",
    "# distinct = Counter(\" \".join(df.loc[21].values.tolist()).split(\" \")).items()\n",
    "# distinct"
   ]
  },
  {
   "cell_type": "markdown",
   "metadata": {},
   "source": [
    "#### Probability of the word “analytics” occurring after the word “data”"
   ]
  },
  {
   "cell_type": "code",
   "execution_count": 622,
   "metadata": {},
   "outputs": [
    {
     "name": "stdout",
     "output_type": "stream",
     "text": [
      "Occurrences of \"analytics\" occur: 10\n",
      "Occurrences of \"analytics\" occurs after \"data\": 5 \n",
      "\n",
      "Probability of \"analytics\" occurs after \"data\": 0.5\n"
     ]
    }
   ],
   "source": [
    "import re\n",
    "\n",
    "analytics_occurrences = df.Data.str.count('analytics[(\\s.,)]', flags=re.I).sum()\n",
    "print(\"Occurrences of \\\"analytics\\\" occur:\" ,analytics_occurrences)\n",
    "\n",
    "data_analytics_occurrences = df.loc[df['Data'].str.contains('data\\sanalytics', flags=re.I, regex=True)].count().item()\n",
    "print(\"Occurrences of \\\"analytics\\\" occurs after \\\"data\\\":\" ,data_analytics_occurrences ,\"\\n\")\n",
    "\n",
    "prob_data_analytics = data_analytics_occurrences / analytics_occurrences\n",
    "print(\"Probability of \\\"analytics\\\" occurs after \\\"data\\\":\",prob_data_analytics)\n"
   ]
  }
 ],
 "metadata": {
  "kernelspec": {
   "display_name": "Python 3",
   "language": "python",
   "name": "python3"
  },
  "language_info": {
   "codemirror_mode": {
    "name": "ipython",
    "version": 3
   },
   "file_extension": ".py",
   "mimetype": "text/x-python",
   "name": "python",
   "nbconvert_exporter": "python",
   "pygments_lexer": "ipython3",
   "version": "3.7.3"
  }
 },
 "nbformat": 4,
 "nbformat_minor": 2
}
